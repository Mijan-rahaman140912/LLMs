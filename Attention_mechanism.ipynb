{
  "nbformat": 4,
  "nbformat_minor": 0,
  "metadata": {
    "colab": {
      "provenance": [],
      "toc_visible": true
    },
    "kernelspec": {
      "name": "python3",
      "display_name": "Python 3"
    },
    "language_info": {
      "name": "python"
    }
  },
  "cells": [
    {
      "cell_type": "markdown",
      "source": [
        "# Coding Attention Mechanism"
      ],
      "metadata": {
        "id": "jpSjTS3fDSH8"
      }
    },
    {
      "cell_type": "markdown",
      "source": [
        "# 3.3 Attending to different parts of the input with self_attention"
      ],
      "metadata": {
        "id": "mqNik3VJDZnm"
      }
    },
    {
      "cell_type": "markdown",
      "source": [
        "# 3.3.1 A simple self_attention mechanism without trainable weights"
      ],
      "metadata": {
        "id": "jMgYXUIIDqyr"
      }
    },
    {
      "cell_type": "code",
      "execution_count": 1,
      "metadata": {
        "id": "EHj510OzAQ_k"
      },
      "outputs": [],
      "source": [
        "import torch\n",
        "\n",
        "inputs = torch.tensor(\n",
        "    [\n",
        "        [0.43, 0.15, 0.89], # Your\n",
        "        [0.55, 0.87, 0.66], # journey\n",
        "        [0.57, 0.85, 0.64], # starts\n",
        "        [0.22, 0.58, 0.33], # with\n",
        "        [0.77, 0.25, 0.10], # 0ne\n",
        "        [0.05, 0.80, 0.55]  # step\n",
        "    ]\n",
        ")"
      ]
    },
    {
      "cell_type": "code",
      "source": [
        "input_query = inputs[1]\n",
        "input_query\n"
      ],
      "metadata": {
        "colab": {
          "base_uri": "https://localhost:8080/"
        },
        "id": "gyi197PUICU-",
        "outputId": "d4b527af-7f3d-4ba0-ff8f-c3add8b9f1f8"
      },
      "execution_count": 2,
      "outputs": [
        {
          "output_type": "execute_result",
          "data": {
            "text/plain": [
              "tensor([0.5500, 0.8700, 0.6600])"
            ]
          },
          "metadata": {},
          "execution_count": 2
        }
      ]
    },
    {
      "cell_type": "code",
      "source": [
        "input_1 = inputs[0]\n",
        "input_1"
      ],
      "metadata": {
        "colab": {
          "base_uri": "https://localhost:8080/"
        },
        "id": "_1LUpLRHI8ho",
        "outputId": "052f0946-d319-4d91-e773-e6cf1e6d02f2"
      },
      "execution_count": 3,
      "outputs": [
        {
          "output_type": "execute_result",
          "data": {
            "text/plain": [
              "tensor([0.4300, 0.1500, 0.8900])"
            ]
          },
          "metadata": {},
          "execution_count": 3
        }
      ]
    },
    {
      "cell_type": "code",
      "source": [
        "torch.dot(input_query, input_1)"
      ],
      "metadata": {
        "colab": {
          "base_uri": "https://localhost:8080/"
        },
        "id": "REEGL7xoKIQN",
        "outputId": "ddd522bf-afb3-4783-e65c-273b29ae42f0"
      },
      "execution_count": 4,
      "outputs": [
        {
          "output_type": "execute_result",
          "data": {
            "text/plain": [
              "tensor(0.9544)"
            ]
          },
          "metadata": {},
          "execution_count": 4
        }
      ]
    },
    {
      "cell_type": "code",
      "source": [
        "res = 0.\n",
        "i = 0\n",
        "for idx, ele  in enumerate(inputs[i]):\n",
        "  res+= inputs[i][idx] * input_query[idx]\n",
        "\n",
        "\n",
        "\n",
        "res\n",
        "\n"
      ],
      "metadata": {
        "colab": {
          "base_uri": "https://localhost:8080/"
        },
        "id": "Ny78ZEvIKTBK",
        "outputId": "d13560c3-7f51-419f-a780-1af02b2189e0"
      },
      "execution_count": 69,
      "outputs": [
        {
          "output_type": "execute_result",
          "data": {
            "text/plain": [
              "tensor(0.9544)"
            ]
          },
          "metadata": {},
          "execution_count": 69
        }
      ]
    },
    {
      "cell_type": "code",
      "source": [
        "i = 3\n",
        "res = torch.dot(inputs[i], input_query)\n",
        "res"
      ],
      "metadata": {
        "colab": {
          "base_uri": "https://localhost:8080/"
        },
        "id": "fLaozDXHKo6y",
        "outputId": "7e7483b8-6aa6-490d-bcea-ce7fa53674c6"
      },
      "execution_count": 6,
      "outputs": [
        {
          "output_type": "execute_result",
          "data": {
            "text/plain": [
              "tensor(0.8434)"
            ]
          },
          "metadata": {},
          "execution_count": 6
        }
      ]
    },
    {
      "cell_type": "code",
      "source": [
        "inputs.shape[0]"
      ],
      "metadata": {
        "colab": {
          "base_uri": "https://localhost:8080/"
        },
        "id": "h5tI4qKPPBPr",
        "outputId": "fa83fdc5-5adc-441b-cb2d-678421c4498b"
      },
      "execution_count": 7,
      "outputs": [
        {
          "output_type": "execute_result",
          "data": {
            "text/plain": [
              "6"
            ]
          },
          "metadata": {},
          "execution_count": 7
        }
      ]
    },
    {
      "cell_type": "code",
      "source": [
        "torch.zeros(inputs.shape[0])"
      ],
      "metadata": {
        "colab": {
          "base_uri": "https://localhost:8080/"
        },
        "id": "fb50R2MPOvav",
        "outputId": "770e0cbb-aaa2-4ffa-8782-0fbba3960a6b"
      },
      "execution_count": 62,
      "outputs": [
        {
          "output_type": "execute_result",
          "data": {
            "text/plain": [
              "tensor([0., 0., 0., 0., 0., 0.])"
            ]
          },
          "metadata": {},
          "execution_count": 62
        }
      ]
    },
    {
      "cell_type": "code",
      "source": [
        "query = inputs[2]\n",
        "attn_scores_2 = torch.zeros(inputs.shape[0])\n",
        "for i, x_i in enumerate(inputs):\n",
        "  attn_scores_2[i] = torch.dot(x_i,input_query)\n",
        "print(attn_scores_2)"
      ],
      "metadata": {
        "colab": {
          "base_uri": "https://localhost:8080/"
        },
        "id": "3_rCnwUHNYGp",
        "outputId": "4a88b758-7bbc-413a-dc77-5ca87ccd37f0"
      },
      "execution_count": 9,
      "outputs": [
        {
          "output_type": "stream",
          "name": "stdout",
          "text": [
            "tensor([0.9544, 1.4950, 1.4754, 0.8434, 0.7070, 1.0865])\n"
          ]
        }
      ]
    },
    {
      "cell_type": "code",
      "source": [
        "attn_weights_2 = attn_scores_2 / attn_scores_2.sum()\n",
        "print(attn_weights_2)\n",
        "attn_weights_2.sum()"
      ],
      "metadata": {
        "colab": {
          "base_uri": "https://localhost:8080/"
        },
        "id": "-sW3OFgrOhKL",
        "outputId": "3907f9f9-4dcd-4382-9b38-e1af9bebd1cd"
      },
      "execution_count": 10,
      "outputs": [
        {
          "output_type": "stream",
          "name": "stdout",
          "text": [
            "tensor([0.1455, 0.2278, 0.2249, 0.1285, 0.1077, 0.1656])\n"
          ]
        },
        {
          "output_type": "execute_result",
          "data": {
            "text/plain": [
              "tensor(1.0000)"
            ]
          },
          "metadata": {},
          "execution_count": 10
        }
      ]
    },
    {
      "cell_type": "code",
      "source": [
        "def softmax_naive(x):\n",
        "  return torch.exp(x) / torch.exp(x).sum(dim=0)\n",
        "\n",
        "softmax_naive(attn_scores_2)"
      ],
      "metadata": {
        "colab": {
          "base_uri": "https://localhost:8080/"
        },
        "id": "BhBHGy7BUIdL",
        "outputId": "e889858a-7b78-4107-dc44-fccb7cb22de3"
      },
      "execution_count": 72,
      "outputs": [
        {
          "output_type": "execute_result",
          "data": {
            "text/plain": [
              "tensor([0.1401, 0.2507, 0.2406, 0.1157, 0.0687, 0.1842],\n",
              "       grad_fn=<DivBackward0>)"
            ]
          },
          "metadata": {},
          "execution_count": 72
        }
      ]
    },
    {
      "cell_type": "code",
      "source": [
        "attn_weights_2= torch.softmax(attn_scores_2, dim=0)\n",
        "\n",
        "attn_weights_2"
      ],
      "metadata": {
        "colab": {
          "base_uri": "https://localhost:8080/"
        },
        "id": "IjCwx0FXZXC1",
        "outputId": "10dbb645-b70e-4c29-ce80-9e359779659b"
      },
      "execution_count": 12,
      "outputs": [
        {
          "output_type": "execute_result",
          "data": {
            "text/plain": [
              "tensor([0.1385, 0.2379, 0.2333, 0.1240, 0.1082, 0.1581])"
            ]
          },
          "metadata": {},
          "execution_count": 12
        }
      ]
    },
    {
      "cell_type": "code",
      "source": [
        "query = inputs[1]\n",
        "context_vec_2 = torch.zeros(query.shape)\n",
        "\n",
        "for i, X_i in enumerate(inputs):\n",
        "  print(f\"{attn_weights_2[i]} ---> {inputs[i]}\")\n",
        "  context_vec_2 += attn_weights_2[i] * X_i\n",
        "\n",
        "context_vec_2\n",
        "\n"
      ],
      "metadata": {
        "colab": {
          "base_uri": "https://localhost:8080/"
        },
        "id": "P-FQwby3ZqOk",
        "outputId": "9b4a2508-079c-483c-a4b2-6f398377511b"
      },
      "execution_count": 64,
      "outputs": [
        {
          "output_type": "stream",
          "name": "stdout",
          "text": [
            "0.15001951158046722 ---> tensor([0.4300, 0.1500, 0.8900])\n",
            "0.22638379037380219 ---> tensor([0.5500, 0.8700, 0.6600])\n",
            "0.2198716253042221 ---> tensor([0.5700, 0.8500, 0.6400])\n",
            "0.131070077419281 ---> tensor([0.2200, 0.5800, 0.3300])\n",
            "0.09062890708446503 ---> tensor([0.7700, 0.2500, 0.1000])\n",
            "0.18202611804008484 ---> tensor([0.0500, 0.8000, 0.5500])\n"
          ]
        },
        {
          "output_type": "execute_result",
          "data": {
            "text/plain": [
              "tensor([0.4221, 0.6506, 0.5761], grad_fn=<AddBackward0>)"
            ]
          },
          "metadata": {},
          "execution_count": 64
        }
      ]
    },
    {
      "cell_type": "code",
      "source": [
        "inputs.shape"
      ],
      "metadata": {
        "colab": {
          "base_uri": "https://localhost:8080/"
        },
        "id": "VisyjWcNG7JA",
        "outputId": "2a2bded6-e4a9-4953-9047-011bcfad07aa"
      },
      "execution_count": 73,
      "outputs": [
        {
          "output_type": "execute_result",
          "data": {
            "text/plain": [
              "torch.Size([6, 3])"
            ]
          },
          "metadata": {},
          "execution_count": 73
        }
      ]
    },
    {
      "cell_type": "code",
      "source": [
        "context_vec_2.shape"
      ],
      "metadata": {
        "colab": {
          "base_uri": "https://localhost:8080/"
        },
        "id": "GaddRsWYG-g0",
        "outputId": "d19ed18e-b0cf-4278-ba72-b7a1d1864ac4"
      },
      "execution_count": 74,
      "outputs": [
        {
          "output_type": "execute_result",
          "data": {
            "text/plain": [
              "torch.Size([3])"
            ]
          },
          "metadata": {},
          "execution_count": 74
        }
      ]
    },
    {
      "cell_type": "code",
      "source": [
        "for i, x_i in enumerate(inputs):\n",
        "  print(i,inputs[i])"
      ],
      "metadata": {
        "colab": {
          "base_uri": "https://localhost:8080/"
        },
        "id": "7Dfv6VRgbcuq",
        "outputId": "0d8560f3-0a74-4687-e0da-de77ccad6bc7"
      },
      "execution_count": 14,
      "outputs": [
        {
          "output_type": "stream",
          "name": "stdout",
          "text": [
            "0 tensor([0.4300, 0.1500, 0.8900])\n",
            "1 tensor([0.5500, 0.8700, 0.6600])\n",
            "2 tensor([0.5700, 0.8500, 0.6400])\n",
            "3 tensor([0.2200, 0.5800, 0.3300])\n",
            "4 tensor([0.7700, 0.2500, 0.1000])\n",
            "5 tensor([0.0500, 0.8000, 0.5500])\n"
          ]
        }
      ]
    },
    {
      "cell_type": "code",
      "source": [
        "inputs = torch.tensor(\n",
        "    [\n",
        "        [0.43, 0.15, 0.89], # Your\n",
        "        [0.55, 0.87, 0.66], # journey\n",
        "        [0.57, 0.85, 0.64], # starts\n",
        "        [0.22, 0.58, 0.33], # with\n",
        "        [0.77, 0.25, 0.10], # 0ne\n",
        "        [0.05, 0.80, 0.55]  # step\n",
        "    ]\n",
        ")"
      ],
      "metadata": {
        "id": "dw7k12NFdLMI"
      },
      "execution_count": 15,
      "outputs": []
    },
    {
      "cell_type": "markdown",
      "source": [
        "# 3.3.2 Computing attention weights for all input tokens"
      ],
      "metadata": {
        "id": "9sWDpOKzhz0P"
      }
    },
    {
      "cell_type": "code",
      "source": [
        "\n",
        "\n",
        "attn_scores = torch.empty(6,6)\n",
        "\n",
        "for i, x_i in enumerate(inputs):\n",
        "  for j, x_j in enumerate(inputs):\n",
        "    attn_scores[i,j] = torch.dot(x_i,x_j)\n",
        "\n",
        "\n",
        "\n",
        "print(attn_scores)"
      ],
      "metadata": {
        "colab": {
          "base_uri": "https://localhost:8080/"
        },
        "id": "3B1MMbXNdaLJ",
        "outputId": "b0348354-1d99-493d-ca75-b3f7fe6806ac"
      },
      "execution_count": 16,
      "outputs": [
        {
          "output_type": "stream",
          "name": "stdout",
          "text": [
            "tensor([[0.9995, 0.9544, 0.9422, 0.4753, 0.4576, 0.6310],\n",
            "        [0.9544, 1.4950, 1.4754, 0.8434, 0.7070, 1.0865],\n",
            "        [0.9422, 1.4754, 1.4570, 0.8296, 0.7154, 1.0605],\n",
            "        [0.4753, 0.8434, 0.8296, 0.4937, 0.3474, 0.6565],\n",
            "        [0.4576, 0.7070, 0.7154, 0.3474, 0.6654, 0.2935],\n",
            "        [0.6310, 1.0865, 1.0605, 0.6565, 0.2935, 0.9450]])\n"
          ]
        }
      ]
    },
    {
      "cell_type": "code",
      "source": [
        "attn_scores =inputs @ inputs.T\n",
        "attn_weights = torch.softmax(attn_scores, dim=0)\n",
        "all_context_vecs = attn_weights @ inputs\n",
        "all_context_vecs\n"
      ],
      "metadata": {
        "colab": {
          "base_uri": "https://localhost:8080/"
        },
        "id": "pxXoPs4mktCT",
        "outputId": "60d45576-8b54-4f6e-e455-04ff758b9b9e"
      },
      "execution_count": 17,
      "outputs": [
        {
          "output_type": "execute_result",
          "data": {
            "text/plain": [
              "tensor([[0.4017, 0.5023, 0.5059],\n",
              "        [0.5595, 0.7824, 0.6953],\n",
              "        [0.5538, 0.7686, 0.6834],\n",
              "        [0.3369, 0.4647, 0.4119],\n",
              "        [0.3525, 0.4059, 0.3657],\n",
              "        [0.3856, 0.5761, 0.5077]])"
            ]
          },
          "metadata": {},
          "execution_count": 17
        }
      ]
    },
    {
      "cell_type": "markdown",
      "source": [
        "# 3.4 implementing self_attention with trainable weights"
      ],
      "metadata": {
        "id": "vDVE53M_nD2V"
      }
    },
    {
      "cell_type": "markdown",
      "source": [
        "# 3.4.1 Computing self-attention weights step by step"
      ],
      "metadata": {
        "id": "0MTlAwU5nSQG"
      }
    },
    {
      "cell_type": "code",
      "source": [
        "x_2 = inputs[1]\n",
        "d_in = inputs.shape[1]\n",
        "d_out = 2"
      ],
      "metadata": {
        "id": "PNn4r9ATj9sO"
      },
      "execution_count": 18,
      "outputs": []
    },
    {
      "cell_type": "code",
      "source": [
        "torch.manual_seed(123)\n",
        "W_query = torch.nn.Parameter(torch.rand(d_in, d_out))\n",
        "W_key = torch.nn.Parameter(torch.rand(d_in, d_out))\n",
        "W_value = torch.nn.Parameter(torch.rand(d_in, d_out))"
      ],
      "metadata": {
        "id": "iiqY-n7sqVyl"
      },
      "execution_count": 19,
      "outputs": []
    },
    {
      "cell_type": "code",
      "source": [
        "query_2 = x_2 @ W_query\n",
        "query_2"
      ],
      "metadata": {
        "colab": {
          "base_uri": "https://localhost:8080/"
        },
        "id": "GpAfutJYqbgE",
        "outputId": "59a33e32-eb2a-4cae-ab99-9a2b987a21c5"
      },
      "execution_count": 20,
      "outputs": [
        {
          "output_type": "execute_result",
          "data": {
            "text/plain": [
              "tensor([0.4306, 1.4551], grad_fn=<SqueezeBackward4>)"
            ]
          },
          "metadata": {},
          "execution_count": 20
        }
      ]
    },
    {
      "cell_type": "code",
      "source": [
        "keys = inputs @ W_key\n",
        "value = inputs @ W_value\n",
        "keys.shape"
      ],
      "metadata": {
        "colab": {
          "base_uri": "https://localhost:8080/"
        },
        "id": "O08enO1kqnDf",
        "outputId": "9109978c-6a7b-4fd7-8970-a1749dd6c531"
      },
      "execution_count": 21,
      "outputs": [
        {
          "output_type": "execute_result",
          "data": {
            "text/plain": [
              "torch.Size([6, 2])"
            ]
          },
          "metadata": {},
          "execution_count": 21
        }
      ]
    },
    {
      "cell_type": "code",
      "source": [
        "keys"
      ],
      "metadata": {
        "colab": {
          "base_uri": "https://localhost:8080/"
        },
        "id": "kjjLqE-pqz_j",
        "outputId": "00339fb6-7d11-4371-a8b2-cbc1ef330462"
      },
      "execution_count": 22,
      "outputs": [
        {
          "output_type": "execute_result",
          "data": {
            "text/plain": [
              "tensor([[0.3669, 0.7646],\n",
              "        [0.4433, 1.1419],\n",
              "        [0.4361, 1.1156],\n",
              "        [0.2408, 0.6706],\n",
              "        [0.1827, 0.3292],\n",
              "        [0.3275, 0.9642]], grad_fn=<MmBackward0>)"
            ]
          },
          "metadata": {},
          "execution_count": 22
        }
      ]
    },
    {
      "cell_type": "code",
      "source": [
        "keys_2 = keys[1]\n",
        "attn_scores22 = torch.dot(query_2,keys_2)"
      ],
      "metadata": {
        "id": "G4HFPXxwq7Ff"
      },
      "execution_count": 23,
      "outputs": []
    },
    {
      "cell_type": "code",
      "source": [
        "attn_scores22"
      ],
      "metadata": {
        "colab": {
          "base_uri": "https://localhost:8080/"
        },
        "id": "qbPeSARNJJmA",
        "outputId": "a51b7aeb-37ad-4ae5-865f-fa53500f8235"
      },
      "execution_count": 24,
      "outputs": [
        {
          "output_type": "execute_result",
          "data": {
            "text/plain": [
              "tensor(1.8524, grad_fn=<DotBackward0>)"
            ]
          },
          "metadata": {},
          "execution_count": 24
        }
      ]
    },
    {
      "cell_type": "code",
      "source": [
        "attn_scores_2 = query_2 @ keys.T\n",
        "attn_scores_2"
      ],
      "metadata": {
        "colab": {
          "base_uri": "https://localhost:8080/"
        },
        "id": "g23OIv-XJcB6",
        "outputId": "d463597f-6c11-41b9-e195-4148ac748a9b"
      },
      "execution_count": 25,
      "outputs": [
        {
          "output_type": "execute_result",
          "data": {
            "text/plain": [
              "tensor([1.2705, 1.8524, 1.8111, 1.0795, 0.5577, 1.5440],\n",
              "       grad_fn=<SqueezeBackward4>)"
            ]
          },
          "metadata": {},
          "execution_count": 25
        }
      ]
    },
    {
      "cell_type": "code",
      "source": [
        "d_k = keys.shape[1]\n",
        "print(d_k)\n",
        "attn_weights_2 = torch.softmax(attn_scores_2 / d_k**0.5, dim=-1)\n",
        "attn_weights_2"
      ],
      "metadata": {
        "colab": {
          "base_uri": "https://localhost:8080/"
        },
        "id": "L7vxock8Jktu",
        "outputId": "7d55f22e-6c71-4791-933e-d3db69f505ef"
      },
      "execution_count": 75,
      "outputs": [
        {
          "output_type": "stream",
          "name": "stdout",
          "text": [
            "2\n"
          ]
        },
        {
          "output_type": "execute_result",
          "data": {
            "text/plain": [
              "tensor([0.1500, 0.2264, 0.2199, 0.1311, 0.0906, 0.1820],\n",
              "       grad_fn=<SoftmaxBackward0>)"
            ]
          },
          "metadata": {},
          "execution_count": 75
        }
      ]
    },
    {
      "cell_type": "code",
      "source": [
        "context_vecs_2 = attn_weights_2 @ value\n",
        "context_vecs_2\n"
      ],
      "metadata": {
        "colab": {
          "base_uri": "https://localhost:8080/"
        },
        "id": "eEpH2XhkMiz2",
        "outputId": "86c97e24-121c-4737-f00a-6affd0f5d21a"
      },
      "execution_count": 27,
      "outputs": [
        {
          "output_type": "execute_result",
          "data": {
            "text/plain": [
              "tensor([0.3061, 0.8210], grad_fn=<SqueezeBackward4>)"
            ]
          },
          "metadata": {},
          "execution_count": 27
        }
      ]
    },
    {
      "cell_type": "markdown",
      "source": [
        "# 3.4.2 Implementing a compact SelfAttention class"
      ],
      "metadata": {
        "id": "_XuCPXTrRrom"
      }
    },
    {
      "cell_type": "code",
      "source": [
        "import torch.nn as nn\n",
        "\n",
        "class SelfAttention_v1(nn.Module):\n",
        "\n",
        "  def __init__(self, d_in, d_out):\n",
        "    super().__init__()\n",
        "    self.W_query = torch.nn.Parameter(torch.rand(d_in, d_out))\n",
        "    self.W_key = torch.nn.Parameter(torch.rand(d_in, d_out))\n",
        "    self.W_value = torch.nn.Parameter(torch.rand(d_in, d_out))\n",
        "\n",
        "\n",
        "  def forward(self,x):\n",
        "    queries = inputs @ W_query\n",
        "    keys = inputs @ W_key\n",
        "    values = inputs @ W_value\n",
        "    attn_scores = queries @ keys.T\n",
        "    attn_weights = torch.softmax(attn_scores / d_k**0.5, dim=-1)\n",
        "    context_vecs = attn_weights @ values\n",
        "    return context_vecs\n",
        "\n",
        "torch.manual_seed(123)\n",
        "sa_v1 = SelfAttention_v1(d_in, d_out)\n",
        "sa_v1(inputs)"
      ],
      "metadata": {
        "colab": {
          "base_uri": "https://localhost:8080/"
        },
        "id": "zyL5GwXzP_eU",
        "outputId": "675881e9-4469-4aed-b8a5-9af6710f87d3"
      },
      "execution_count": 28,
      "outputs": [
        {
          "output_type": "execute_result",
          "data": {
            "text/plain": [
              "tensor([[0.2996, 0.8053],\n",
              "        [0.3061, 0.8210],\n",
              "        [0.3058, 0.8203],\n",
              "        [0.2948, 0.7939],\n",
              "        [0.2927, 0.7891],\n",
              "        [0.2990, 0.8040]], grad_fn=<MmBackward0>)"
            ]
          },
          "metadata": {},
          "execution_count": 28
        }
      ]
    },
    {
      "cell_type": "markdown",
      "source": [
        "# Using Linear Layer"
      ],
      "metadata": {
        "id": "5fh77ZLrX4l-"
      }
    },
    {
      "cell_type": "code",
      "source": [
        "import torch.nn as nn\n",
        "\n",
        "class SelfAttention_v2(nn.Module):\n",
        "\n",
        "  def __init__(self, d_in, d_out, qkv_bias=False):\n",
        "    super().__init__()\n",
        "    self.W_query = torch.nn.Linear(d_in, d_out, bias=qkv_bias)\n",
        "    self.W_key = torch.nn.Linear(d_in, d_out, bias=qkv_bias)\n",
        "    self.W_value = torch.nn.Linear(d_in, d_out, bias=qkv_bias)\n",
        "\n",
        "\n",
        "  def forward(self,x):\n",
        "    queries = self.W_query(x)\n",
        "    keys = self.W_key(x)\n",
        "    values = self.W_value(x)\n",
        "\n",
        "    attn_scores = queries @ keys.T\n",
        "    attn_weights = torch.softmax(attn_scores / d_k**0.5, dim=-1)\n",
        "    context_vecs = attn_weights @ values\n",
        "    return context_vecs\n",
        "\n",
        "torch.manual_seed(789)\n",
        "sa_v2 = SelfAttention_v2(d_in, d_out)\n",
        "sa_v2(inputs)"
      ],
      "metadata": {
        "colab": {
          "base_uri": "https://localhost:8080/"
        },
        "id": "nB43dHQ8TvUq",
        "outputId": "c3f73842-a358-40b7-a333-6ac7b15bdead"
      },
      "execution_count": 29,
      "outputs": [
        {
          "output_type": "execute_result",
          "data": {
            "text/plain": [
              "tensor([[-0.0739,  0.0713],\n",
              "        [-0.0748,  0.0703],\n",
              "        [-0.0749,  0.0702],\n",
              "        [-0.0760,  0.0685],\n",
              "        [-0.0763,  0.0679],\n",
              "        [-0.0754,  0.0693]], grad_fn=<MmBackward0>)"
            ]
          },
          "metadata": {},
          "execution_count": 29
        }
      ]
    },
    {
      "cell_type": "markdown",
      "source": [
        "# 3.5 Hiding future words with casual attention"
      ],
      "metadata": {
        "id": "kU7inAL01iDp"
      }
    },
    {
      "cell_type": "markdown",
      "source": [
        "# 3.5.1 Applying a causal attention mask"
      ],
      "metadata": {
        "id": "ynbTHHiZ14Se"
      }
    },
    {
      "cell_type": "code",
      "source": [
        "queries = sa_v2.W_query(inputs)\n",
        "keys = sa_v2.W_key(inputs)\n",
        "values = sa_v2.W_value(inputs)\n",
        "\n",
        "attn_scores = queries @ keys.T\n",
        "attn_weights = torch.softmax(attn_scores / d_k**0.5, dim=-1)"
      ],
      "metadata": {
        "id": "skekU0jrWfyj"
      },
      "execution_count": 30,
      "outputs": []
    },
    {
      "cell_type": "code",
      "source": [
        "attn_weights"
      ],
      "metadata": {
        "colab": {
          "base_uri": "https://localhost:8080/"
        },
        "id": "0FEufGM93cFP",
        "outputId": "d62a4ca0-ca25-49aa-a8eb-935dd3a7d811"
      },
      "execution_count": 31,
      "outputs": [
        {
          "output_type": "execute_result",
          "data": {
            "text/plain": [
              "tensor([[0.1921, 0.1646, 0.1652, 0.1550, 0.1721, 0.1510],\n",
              "        [0.2041, 0.1659, 0.1662, 0.1496, 0.1665, 0.1477],\n",
              "        [0.2036, 0.1659, 0.1662, 0.1498, 0.1664, 0.1480],\n",
              "        [0.1869, 0.1667, 0.1668, 0.1571, 0.1661, 0.1564],\n",
              "        [0.1830, 0.1669, 0.1670, 0.1588, 0.1658, 0.1585],\n",
              "        [0.1935, 0.1663, 0.1666, 0.1542, 0.1666, 0.1529]],\n",
              "       grad_fn=<SoftmaxBackward0>)"
            ]
          },
          "metadata": {},
          "execution_count": 31
        }
      ]
    },
    {
      "cell_type": "code",
      "source": [
        "context_length = attn_scores.shape[0]\n",
        "mask_simple = torch.tril(torch.ones(context_length, context_length))\n",
        "print(mask_simple)"
      ],
      "metadata": {
        "colab": {
          "base_uri": "https://localhost:8080/"
        },
        "id": "z9lWF1Y_3fH5",
        "outputId": "7c7e9faf-8d82-4f26-b89c-de7e137395b6"
      },
      "execution_count": 32,
      "outputs": [
        {
          "output_type": "stream",
          "name": "stdout",
          "text": [
            "tensor([[1., 0., 0., 0., 0., 0.],\n",
            "        [1., 1., 0., 0., 0., 0.],\n",
            "        [1., 1., 1., 0., 0., 0.],\n",
            "        [1., 1., 1., 1., 0., 0.],\n",
            "        [1., 1., 1., 1., 1., 0.],\n",
            "        [1., 1., 1., 1., 1., 1.]])\n"
          ]
        }
      ]
    },
    {
      "cell_type": "code",
      "source": [
        "masked_simple = attn_weights * mask_simple\n",
        "masked_simple"
      ],
      "metadata": {
        "colab": {
          "base_uri": "https://localhost:8080/"
        },
        "id": "-yw7drNx4Meq",
        "outputId": "1fd20e47-5dae-4b14-a727-6f87c724f10b"
      },
      "execution_count": 33,
      "outputs": [
        {
          "output_type": "execute_result",
          "data": {
            "text/plain": [
              "tensor([[0.1921, 0.0000, 0.0000, 0.0000, 0.0000, 0.0000],\n",
              "        [0.2041, 0.1659, 0.0000, 0.0000, 0.0000, 0.0000],\n",
              "        [0.2036, 0.1659, 0.1662, 0.0000, 0.0000, 0.0000],\n",
              "        [0.1869, 0.1667, 0.1668, 0.1571, 0.0000, 0.0000],\n",
              "        [0.1830, 0.1669, 0.1670, 0.1588, 0.1658, 0.0000],\n",
              "        [0.1935, 0.1663, 0.1666, 0.1542, 0.1666, 0.1529]],\n",
              "       grad_fn=<MulBackward0>)"
            ]
          },
          "metadata": {},
          "execution_count": 33
        }
      ]
    },
    {
      "cell_type": "code",
      "source": [
        "row_sums = masked_simple.sum(dim=1, keepdim=True)\n",
        "masked_simple_norm = masked_simple / row_sums\n",
        "masked_simple_norm"
      ],
      "metadata": {
        "colab": {
          "base_uri": "https://localhost:8080/"
        },
        "id": "q8vf47N34nn6",
        "outputId": "82ae3c5d-d130-4a3e-f700-bd7f9373da50"
      },
      "execution_count": 34,
      "outputs": [
        {
          "output_type": "execute_result",
          "data": {
            "text/plain": [
              "tensor([[1.0000, 0.0000, 0.0000, 0.0000, 0.0000, 0.0000],\n",
              "        [0.5517, 0.4483, 0.0000, 0.0000, 0.0000, 0.0000],\n",
              "        [0.3800, 0.3097, 0.3103, 0.0000, 0.0000, 0.0000],\n",
              "        [0.2758, 0.2460, 0.2462, 0.2319, 0.0000, 0.0000],\n",
              "        [0.2175, 0.1983, 0.1984, 0.1888, 0.1971, 0.0000],\n",
              "        [0.1935, 0.1663, 0.1666, 0.1542, 0.1666, 0.1529]],\n",
              "       grad_fn=<DivBackward0>)"
            ]
          },
          "metadata": {},
          "execution_count": 34
        }
      ]
    },
    {
      "cell_type": "code",
      "source": [
        "masked_simple = attn_scores*mask_simple\n",
        "masked_simple_nrm = torch.softmax(masked_simple / d_k**0.5, dim=-1)\n",
        "masked_simple_nrm\n"
      ],
      "metadata": {
        "colab": {
          "base_uri": "https://localhost:8080/"
        },
        "id": "p50UhM5Q5OsD",
        "outputId": "413d5f2e-a1c2-44cf-e609-45da9db2de4a"
      },
      "execution_count": 35,
      "outputs": [
        {
          "output_type": "execute_result",
          "data": {
            "text/plain": [
              "tensor([[0.1971, 0.1606, 0.1606, 0.1606, 0.1606, 0.1606],\n",
              "        [0.2132, 0.1733, 0.1534, 0.1534, 0.1534, 0.1534],\n",
              "        [0.2083, 0.1698, 0.1702, 0.1506, 0.1506, 0.1506],\n",
              "        [0.1892, 0.1688, 0.1689, 0.1591, 0.1570, 0.1570],\n",
              "        [0.1833, 0.1671, 0.1672, 0.1591, 0.1661, 0.1571],\n",
              "        [0.1935, 0.1663, 0.1666, 0.1542, 0.1666, 0.1529]],\n",
              "       grad_fn=<SoftmaxBackward0>)"
            ]
          },
          "metadata": {},
          "execution_count": 35
        }
      ]
    },
    {
      "cell_type": "code",
      "source": [
        "mask = torch.triu(torch.ones(context_length, context_length), diagonal=1)\n",
        "print(mask)\n",
        "masked = attn_scores.masked_fill(mask.bool(), -torch.inf)\n",
        "print(masked)"
      ],
      "metadata": {
        "colab": {
          "base_uri": "https://localhost:8080/"
        },
        "id": "HdeoR-U57guw",
        "outputId": "029da921-2269-401b-9c3f-0e99ae07c981"
      },
      "execution_count": 79,
      "outputs": [
        {
          "output_type": "stream",
          "name": "stdout",
          "text": [
            "tensor([[0., 1., 1., 1., 1., 1.],\n",
            "        [0., 0., 1., 1., 1., 1.],\n",
            "        [0., 0., 0., 1., 1., 1.],\n",
            "        [0., 0., 0., 0., 1., 1.],\n",
            "        [0., 0., 0., 0., 0., 1.],\n",
            "        [0., 0., 0., 0., 0., 0.]])\n",
            "tensor([[0.2899,   -inf,   -inf,   -inf,   -inf,   -inf],\n",
            "        [0.4656, 0.1723,   -inf,   -inf,   -inf,   -inf],\n",
            "        [0.4594, 0.1703, 0.1731,   -inf,   -inf,   -inf],\n",
            "        [0.2642, 0.1024, 0.1036, 0.0186,   -inf,   -inf],\n",
            "        [0.2183, 0.0874, 0.0882, 0.0177, 0.0786,   -inf],\n",
            "        [0.3408, 0.1270, 0.1290, 0.0198, 0.1290, 0.0078]],\n",
            "       grad_fn=<MaskedFillBackward0>)\n"
          ]
        }
      ]
    },
    {
      "cell_type": "code",
      "source": [
        "attn_weights = torch.softmax(masked / d_k**0.5, dim=-1)\n",
        "attn_weights"
      ],
      "metadata": {
        "colab": {
          "base_uri": "https://localhost:8080/"
        },
        "id": "Ekn6lLF48igp",
        "outputId": "3882355d-6619-4202-de45-1b295ae8fffe"
      },
      "execution_count": 37,
      "outputs": [
        {
          "output_type": "execute_result",
          "data": {
            "text/plain": [
              "tensor([[1.0000, 0.0000, 0.0000, 0.0000, 0.0000, 0.0000],\n",
              "        [0.5517, 0.4483, 0.0000, 0.0000, 0.0000, 0.0000],\n",
              "        [0.3800, 0.3097, 0.3103, 0.0000, 0.0000, 0.0000],\n",
              "        [0.2758, 0.2460, 0.2462, 0.2319, 0.0000, 0.0000],\n",
              "        [0.2175, 0.1983, 0.1984, 0.1888, 0.1971, 0.0000],\n",
              "        [0.1935, 0.1663, 0.1666, 0.1542, 0.1666, 0.1529]],\n",
              "       grad_fn=<SoftmaxBackward0>)"
            ]
          },
          "metadata": {},
          "execution_count": 37
        }
      ]
    },
    {
      "cell_type": "markdown",
      "source": [
        "# 3.5.2 Masking additional attention weights with dropout"
      ],
      "metadata": {
        "id": "zkgFYEvN-AHe"
      }
    },
    {
      "cell_type": "code",
      "source": [
        "torch.manual_seed(123)\n",
        "layer = torch.nn.Dropout(0.5)\n"
      ],
      "metadata": {
        "id": "XlQnTg1j9uyy"
      },
      "execution_count": 38,
      "outputs": []
    },
    {
      "cell_type": "code",
      "source": [
        "example = torch.ones(6,6)\n",
        "example"
      ],
      "metadata": {
        "colab": {
          "base_uri": "https://localhost:8080/"
        },
        "id": "-CIaXkMJ_TSq",
        "outputId": "0983bf12-ba8d-462e-b98d-0971c41804b4"
      },
      "execution_count": 39,
      "outputs": [
        {
          "output_type": "execute_result",
          "data": {
            "text/plain": [
              "tensor([[1., 1., 1., 1., 1., 1.],\n",
              "        [1., 1., 1., 1., 1., 1.],\n",
              "        [1., 1., 1., 1., 1., 1.],\n",
              "        [1., 1., 1., 1., 1., 1.],\n",
              "        [1., 1., 1., 1., 1., 1.],\n",
              "        [1., 1., 1., 1., 1., 1.]])"
            ]
          },
          "metadata": {},
          "execution_count": 39
        }
      ]
    },
    {
      "cell_type": "code",
      "source": [
        "layer(example)"
      ],
      "metadata": {
        "colab": {
          "base_uri": "https://localhost:8080/"
        },
        "id": "Uescypcy_YcE",
        "outputId": "520cf12c-8645-416f-aca7-48d191e6dd37"
      },
      "execution_count": 40,
      "outputs": [
        {
          "output_type": "execute_result",
          "data": {
            "text/plain": [
              "tensor([[2., 2., 2., 2., 2., 2.],\n",
              "        [0., 2., 0., 0., 0., 0.],\n",
              "        [0., 0., 2., 0., 2., 0.],\n",
              "        [2., 2., 0., 0., 0., 2.],\n",
              "        [2., 0., 0., 0., 0., 2.],\n",
              "        [0., 2., 0., 0., 0., 0.]])"
            ]
          },
          "metadata": {},
          "execution_count": 40
        }
      ]
    },
    {
      "cell_type": "code",
      "source": [
        "dropout_rate = 0.5\n",
        "1 / (1 -dropout_rate)"
      ],
      "metadata": {
        "colab": {
          "base_uri": "https://localhost:8080/"
        },
        "id": "8UnbpbQW_bzP",
        "outputId": "b282fa03-65f5-4a07-e8af-f4aac9dbb6dc"
      },
      "execution_count": 41,
      "outputs": [
        {
          "output_type": "execute_result",
          "data": {
            "text/plain": [
              "2.0"
            ]
          },
          "metadata": {},
          "execution_count": 41
        }
      ]
    },
    {
      "cell_type": "code",
      "source": [
        "layer(attn_weights)"
      ],
      "metadata": {
        "colab": {
          "base_uri": "https://localhost:8080/"
        },
        "id": "Hx0Tm6gC_5DK",
        "outputId": "833bc603-276e-4d47-f7fc-cd6c053a6fe0"
      },
      "execution_count": 42,
      "outputs": [
        {
          "output_type": "execute_result",
          "data": {
            "text/plain": [
              "tensor([[2.0000, 0.0000, 0.0000, 0.0000, 0.0000, 0.0000],\n",
              "        [0.0000, 0.0000, 0.0000, 0.0000, 0.0000, 0.0000],\n",
              "        [0.0000, 0.0000, 0.6206, 0.0000, 0.0000, 0.0000],\n",
              "        [0.0000, 0.4921, 0.0000, 0.4638, 0.0000, 0.0000],\n",
              "        [0.0000, 0.3966, 0.3968, 0.3775, 0.3941, 0.0000],\n",
              "        [0.3869, 0.3327, 0.0000, 0.0000, 0.3331, 0.3058]],\n",
              "       grad_fn=<MulBackward0>)"
            ]
          },
          "metadata": {},
          "execution_count": 42
        }
      ]
    },
    {
      "cell_type": "markdown",
      "source": [
        "# 3.5.3 Implementing a compact causal self_attention class"
      ],
      "metadata": {
        "id": "_nnLWZtQAf1p"
      }
    },
    {
      "cell_type": "code",
      "source": [
        "batch = torch.stack((inputs, inputs),dim=0)\n",
        "batch.shape[1]"
      ],
      "metadata": {
        "colab": {
          "base_uri": "https://localhost:8080/"
        },
        "id": "EsAKJJ8sC0-E",
        "outputId": "73fff979-2fb6-490a-adb0-02a2dc0d0c1f"
      },
      "execution_count": 89,
      "outputs": [
        {
          "output_type": "execute_result",
          "data": {
            "text/plain": [
              "6"
            ]
          },
          "metadata": {},
          "execution_count": 89
        }
      ]
    },
    {
      "cell_type": "code",
      "source": [
        "import torch.nn as nn\n",
        "\n",
        "class CausalAttention(nn.Module):\n",
        "\n",
        "  def __init__(self, d_in, d_out,context_length, dropout, qkv_bias=False):\n",
        "    super().__init__()\n",
        "    self.W_query = torch.nn.Linear(d_in, d_out, bias=qkv_bias)\n",
        "    self.W_key = torch.nn.Linear(d_in, d_out, bias=qkv_bias)\n",
        "    self.W_value = torch.nn.Linear(d_in, d_out, bias=qkv_bias)\n",
        "    self.dropout = torch.nn.Dropout(dropout)\n",
        "    self.register_buffer(\"mask\", torch.triu(torch.ones(context_length, context_length), diagonal=1))\n",
        "\n",
        "\n",
        "  def forward(self,x):\n",
        "    b, num_tokens, d_in = x.shape\n",
        "    print(x.shape)\n",
        "    # x = batch, 2*6*3\n",
        "    queries = self.W_query(x)\n",
        "    keys = self.W_key(x)\n",
        "    values = self.W_value(x)\n",
        "\n",
        "    attn_scores = queries @ keys.transpose(1,2) # Changed transpose\n",
        "    attn_scores.masked_fill_( # New,_ops are in-place\n",
        "         self.mask.bool()[:num_tokens, :num_tokens],-torch.inf)\n",
        "    attn_weights = torch.softmax(attn_scores / keys.shape[-1]**0.5,dim=-1)\n",
        "    attn_weights = self.dropout(attn_weights)\n",
        "    context_vecs = attn_weights @ values\n",
        "\n",
        "    return context_vecs\n",
        "\n",
        "\n",
        "\n",
        "torch.manual_seed(789)\n",
        "context_length = batch.shape[1]\n",
        "dropout = 0.0\n",
        "ca = CausalAttention(d_in, d_out, context_length, dropout_rate)\n",
        "ca(batch)\n",
        "\n"
      ],
      "metadata": {
        "colab": {
          "base_uri": "https://localhost:8080/"
        },
        "id": "YAMRC5WaHhu4",
        "outputId": "6b93443e-fc2d-46cd-fe38-e152cb25caf6"
      },
      "execution_count": 92,
      "outputs": [
        {
          "output_type": "stream",
          "name": "stdout",
          "text": [
            "torch.Size([2, 6, 3])\n"
          ]
        },
        {
          "output_type": "execute_result",
          "data": {
            "text/plain": [
              "tensor([[[-0.1744,  0.0572],\n",
              "         [-0.0962,  0.0315],\n",
              "         [-0.1336,  0.1050],\n",
              "         [-0.1542,  0.0991],\n",
              "         [-0.0749,  0.0358],\n",
              "         [-0.1636,  0.0083]],\n",
              "\n",
              "        [[-0.1744,  0.0572],\n",
              "         [ 0.0000,  0.0000],\n",
              "         [-0.1367,  0.0691],\n",
              "         [-0.1406,  0.0602],\n",
              "         [-0.1175,  0.0418],\n",
              "         [-0.1131,  0.1131]]], grad_fn=<UnsafeViewBackward0>)"
            ]
          },
          "metadata": {},
          "execution_count": 92
        }
      ]
    },
    {
      "cell_type": "markdown",
      "source": [
        "# 3.6 Extending single-head attention to multi-head attention"
      ],
      "metadata": {
        "id": "S-1ChmvrJ58k"
      }
    },
    {
      "cell_type": "markdown",
      "source": [
        "# 3.6.1 Stacking multiple single-head attention layers"
      ],
      "metadata": {
        "id": "EcBippvLJsvt"
      }
    },
    {
      "cell_type": "code",
      "source": [
        "class MultiHeadAttentionWrapper(nn.Module):\n",
        "  def __init__(self,d_in, d_out,context_length, dropout, num_heads=2, qkv_bias=False):\n",
        "    super().__init__()\n",
        "    self.heads = nn.ModuleList(\n",
        "        [CausalAttention(d_in, d_out,context_length, dropout, qkv_bias) for _ in range(num_heads)])\n",
        "\n",
        "  def forward(self, x):\n",
        "    return torch.cat([head(x) for head in self.heads],dim=-1)\n",
        "\n",
        "torch.manual_seed(123)\n",
        "context_length = batch.shape[1]\n",
        "d_in,d_out = batch.shape[-1],2\n",
        "dropout = 0.0\n",
        "mha = MultiHeadAttentionWrapper(d_in, d_out, context_length, dropout, num_heads=2)\n",
        "mha(batch)"
      ],
      "metadata": {
        "colab": {
          "base_uri": "https://localhost:8080/"
        },
        "id": "tOfjw_FfJ2FT",
        "outputId": "3c98bdfc-abe9-4e0c-c4ba-aea8b2e206cb"
      },
      "execution_count": 94,
      "outputs": [
        {
          "output_type": "stream",
          "name": "stdout",
          "text": [
            "torch.Size([2, 6, 3])\n",
            "torch.Size([2, 6, 3])\n"
          ]
        },
        {
          "output_type": "execute_result",
          "data": {
            "text/plain": [
              "tensor([[[-0.4519,  0.2216,  0.4772,  0.1063],\n",
              "         [-0.5874,  0.0058,  0.5891,  0.3257],\n",
              "         [-0.6300, -0.0632,  0.6202,  0.3860],\n",
              "         [-0.5675, -0.0843,  0.5478,  0.3589],\n",
              "         [-0.5526, -0.0981,  0.5321,  0.3428],\n",
              "         [-0.5299, -0.1081,  0.5077,  0.3493]],\n",
              "\n",
              "        [[-0.4519,  0.2216,  0.4772,  0.1063],\n",
              "         [-0.5874,  0.0058,  0.5891,  0.3257],\n",
              "         [-0.6300, -0.0632,  0.6202,  0.3860],\n",
              "         [-0.5675, -0.0843,  0.5478,  0.3589],\n",
              "         [-0.5526, -0.0981,  0.5321,  0.3428],\n",
              "         [-0.5299, -0.1081,  0.5077,  0.3493]]], grad_fn=<CatBackward0>)"
            ]
          },
          "metadata": {},
          "execution_count": 94
        }
      ]
    },
    {
      "cell_type": "markdown",
      "source": [
        "# 3.6.2 Implementing multi-head attention with weights splits"
      ],
      "metadata": {
        "id": "xG9X3E4mRrpg"
      }
    },
    {
      "cell_type": "code",
      "source": [
        "class MultiHeadAttention(nn.Module):\n",
        "  def __init__(self,d_in, d_out,context_length, dropout, num_heads=2, qkv_bias=False):\n",
        "    super().__init__()\n",
        "    assert(d_out % num_heads == 0), \\\n",
        "        \"d_out must be divisible by num_heads\"\n",
        "\n",
        "    self.d_out = d_out\n",
        "    self.num_heads = num_heads\n",
        "    self.head_dim = d_out // num_heads # reduce the projection dim to match desired output dim\n",
        "\n",
        "    self.W_query = torch.nn.Linear(d_in, d_out, bias=qkv_bias)\n",
        "    self.W_key = torch.nn.Linear(d_in, d_out, bias=qkv_bias)\n",
        "    self.W_value = torch.nn.Linear(d_in, d_out, bias=qkv_bias)\n",
        "    self.out_proj = torch.nn.Linear(d_out, d_out)\n",
        "    self.dropout = torch.nn.Dropout(dropout)\n",
        "    self.register_buffer(\"mask\", torch.triu(torch.ones(context_length, context_length), diagonal=1))\n",
        "\n",
        "\n",
        "  def forward(self, x):\n",
        "    b, num_tokens, d_in = x.shape # Shape : (b, num_tokens, d_out)\n",
        "    queries = self.W_query(x)\n",
        "    keys = self.W_key(x)\n",
        "    values = self.W_value(x)\n",
        "\n",
        "    # we implicitly split the matrix by adding a ` num_heads` dimention\n",
        "    # unroll llast dim : (b, num_tokens, d_out) -->(b, num_tokens,  head_dim)\n",
        "\n",
        "    keys = keys.reshape(b, num_tokens, self.num_heads, self.head_dim)\n",
        "    queries = queries.reshape(b, num_tokens, self.num_heads, self.head_dim)\n",
        "    values = values.reshape(b, num_tokens, self.num_heads, self.head_dim)\n",
        "\n",
        "    #Transpose: ((b, num_tokens, num_heads, head_dim) -->(b, num_heads, num_tokens,  head_dim)\n",
        "    keys = keys.transpose(1,2)\n",
        "    queries = queries.transpose(1,2)\n",
        "    values = values.transpose(1,2)\n",
        "\n",
        "    # Compute scaled dot-product attention (selfattention) with a causal mask\n",
        "\n",
        "    attn_scores = queries @ keys.transpose(2,3) # dot product for each head\n",
        "\n",
        "    # Original mask truncated to the number of tokens and converted to boolean\n",
        "\n",
        "    mask_bool = self.mask[:num_tokens, :num_tokens].bool()\n",
        "\n",
        "    # Use the mask to fill attention scores\n",
        "    attn_scores.masked_fill_(mask_bool, -torch.inf)\n",
        "    attn_weights = torch.softmax(attn_scores / keys.shape[-1]**0.5,dim=-1)\n",
        "    attn_weights = self.dropout(attn_weights)\n",
        "\n",
        "    # Shape: (b, num_tokens, num_heads, head_dim)\n",
        "    context_vec = (attn_weights @ values).transpose(1,2)\n",
        "\n",
        "    # Combine heads, where self.d_out = self.num_heads * self.head_dim\n",
        "    context_vec = context_vec.reshape(b, num_tokens, self.d_out)\n",
        "\n",
        "    contex_vec = self.out_proj(context_vec) # optional projection\n",
        "\n",
        "    return context_vec\n",
        "\n",
        "torch.manual_seed(123)\n",
        "\n",
        "batch__size, context_length, d_in = batch.shape\n",
        "d_out = 4\n",
        "\n",
        "mha = MultiHeadAttention(d_in, d_out, context_length, 0.0, num_heads=2)\n",
        "mha(batch)\n",
        "\n",
        "\n",
        "\n",
        ""
      ],
      "metadata": {
        "id": "d6KF3DPUOUKY",
        "colab": {
          "base_uri": "https://localhost:8080/"
        },
        "outputId": "71a67b82-60b3-4d04-8af5-8446f273c75d"
      },
      "execution_count": 99,
      "outputs": [
        {
          "output_type": "execute_result",
          "data": {
            "text/plain": [
              "tensor([[[-0.3132, -0.2272,  0.4772,  0.1063],\n",
              "         [-0.2308,  0.0329,  0.5764,  0.3007],\n",
              "         [-0.2059,  0.1190,  0.6097,  0.3654],\n",
              "         [-0.1642,  0.1340,  0.5431,  0.3503],\n",
              "         [-0.1689,  0.1794,  0.5296,  0.3389],\n",
              "         [-0.1407,  0.1699,  0.5040,  0.3403]],\n",
              "\n",
              "        [[-0.3132, -0.2272,  0.4772,  0.1063],\n",
              "         [-0.2308,  0.0329,  0.5764,  0.3007],\n",
              "         [-0.2059,  0.1190,  0.6097,  0.3654],\n",
              "         [-0.1642,  0.1340,  0.5431,  0.3503],\n",
              "         [-0.1689,  0.1794,  0.5296,  0.3389],\n",
              "         [-0.1407,  0.1699,  0.5040,  0.3403]]], grad_fn=<UnsafeViewBackward0>)"
            ]
          },
          "metadata": {},
          "execution_count": 99
        }
      ]
    },
    {
      "cell_type": "code",
      "source": [],
      "metadata": {
        "id": "Dqz7IefrqjmT"
      },
      "execution_count": null,
      "outputs": []
    }
  ]
}